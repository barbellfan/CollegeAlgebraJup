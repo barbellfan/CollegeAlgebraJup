{
 "cells": [
  {
   "cell_type": "markdown",
   "id": "a3c0b0c4-0c3b-4153-aee0-376f13dd9a5a",
   "metadata": {},
   "source": [
    "# Week 14 Exponents and Logarithms"
   ]
  },
  {
   "cell_type": "code",
   "execution_count": null,
   "id": "7a2a4331-038c-4c4c-ae68-ffa4b72534ae",
   "metadata": {},
   "outputs": [],
   "source": []
  }
 ],
 "metadata": {
  "kernelspec": {
   "display_name": "Python 3 (ipykernel)",
   "language": "python",
   "name": "python3"
  },
  "language_info": {
   "codemirror_mode": {
    "name": "ipython",
    "version": 3
   },
   "file_extension": ".py",
   "mimetype": "text/x-python",
   "name": "python",
   "nbconvert_exporter": "python",
   "pygments_lexer": "ipython3",
   "version": "3.10.12"
  }
 },
 "nbformat": 4,
 "nbformat_minor": 5
}
