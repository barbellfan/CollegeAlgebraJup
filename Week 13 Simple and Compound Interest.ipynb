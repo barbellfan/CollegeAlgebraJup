{
 "cells": [
  {
   "cell_type": "markdown",
   "id": "a34304aa-4c16-419a-88ee-324b26e27508",
   "metadata": {},
   "source": [
    "# Week 13 Simple and Compound Interest"
   ]
  },
  {
   "cell_type": "markdown",
   "id": "2c0d1670-afd0-4416-a16b-8ad794615d70",
   "metadata": {},
   "source": [
    "$principal\\ x\\ rate\\ x\\ time\\ = interest$\n",
    "\n",
    "Interest over time:\n",
    "\n",
    "$P = original principle$\n",
    "\n",
    "$r = rate of interest measured in t, time$\n",
    "\n",
    "$t = time$\n",
    "\n",
    "$P(1 + r)^t = New\\ Amount\\ at\\ end\\ of\\ t$"
   ]
  },
  {
   "cell_type": "markdown",
   "id": "0a9d52ec-2b17-4b31-a5ac-6958f865471e",
   "metadata": {},
   "source": [
    "## Simple interest\n",
    "\n",
    "principle * rate * time = interest"
   ]
  },
  {
   "cell_type": "code",
   "execution_count": 3,
   "id": "1e36dd6b-d8eb-4a60-9417-fb77f6b55fd4",
   "metadata": {},
   "outputs": [
    {
     "name": "stdout",
     "output_type": "stream",
     "text": [
      "interest = 150.0\n"
     ]
    }
   ],
   "source": [
    "p = 1000\n",
    "r = .05\n",
    "t = 3\n",
    "interest = p*r*t\n",
    "print(\"interest =\", interest)"
   ]
  },
  {
   "cell_type": "markdown",
   "id": "b59b05ed-9e05-4141-8062-458454b41bad",
   "metadata": {},
   "source": [
    "New amount = principle + interest"
   ]
  },
  {
   "cell_type": "code",
   "execution_count": 4,
   "id": "ca3a0f95-31d5-4d4e-963c-9549603af8d2",
   "metadata": {},
   "outputs": [
    {
     "name": "stdout",
     "output_type": "stream",
     "text": [
      "New amount = 1150.0\n"
     ]
    }
   ],
   "source": [
    "p = 1000\n",
    "r = .05\n",
    "t = 3\n",
    "interest = p*r*t\n",
    "a = p + interest\n",
    "print(\"New amount =\", a)"
   ]
  },
  {
   "cell_type": "markdown",
   "id": "8653fe4c-ef1b-4b11-a1f1-27f8d2782e3a",
   "metadata": {},
   "source": [
    "The algebra for any percent increase:\n",
    "\n",
    "New amount = $p + p*r$\n",
    "\n",
    "New amount = $p*(1 + r)$ where time (t) is 1\n"
   ]
  },
  {
   "cell_type": "code",
   "execution_count": 5,
   "id": "edc8a1be-5284-4c6e-9e1c-ed2e9148a007",
   "metadata": {},
   "outputs": [
    {
     "name": "stdout",
     "output_type": "stream",
     "text": [
      "New amount = 1050.0\n"
     ]
    }
   ],
   "source": [
    "p = 1000\n",
    "r = .05\n",
    "a = p*(1 + r)\n",
    "print(\"New amount =\", a)"
   ]
  },
  {
   "cell_type": "markdown",
   "id": "0b9e0ad4-f446-408f-8601-ffaa86da563d",
   "metadata": {},
   "source": [
    "Compounding is adding the intrest to the principle and then calculating percent increase from this new amount.\n",
    "\n",
    "Original amount: $P$\n",
    "\n",
    "New amount: $P(1 + r)$\n",
    "\n",
    "Compounded again: $P(1 + r)(1 + r)$\n",
    "\n",
    "And again: $P(1 + r)(1 + r)(1 + r) = P(1+r)^3$\n"
   ]
  },
  {
   "cell_type": "code",
   "execution_count": 6,
   "id": "8bac66ad-5c2e-4e31-836e-b76ae8668cc5",
   "metadata": {},
   "outputs": [
    {
     "name": "stdout",
     "output_type": "stream",
     "text": [
      "Annuity = 1157.6250000000002\n"
     ]
    }
   ],
   "source": [
    "p = 1000\n",
    "r = .05\n",
    "t = 3\n",
    "annuity = p*(1 + r)**t\n",
    "print(\"Annuity =\", annuity)"
   ]
  },
  {
   "cell_type": "markdown",
   "id": "b5d07b83-5491-48d3-b88a-23ce6d70843d",
   "metadata": {},
   "source": [
    "When compunding happens __n__ times per year, here is the formula:\n",
    "\n",
    "$A = P(1 + \\frac{r}{n})^{nt}$"
   ]
  },
  {
   "cell_type": "code",
   "execution_count": 9,
   "id": "8cda18a9-028e-4a40-a66c-c5fa389c5ce7",
   "metadata": {},
   "outputs": [
    {
     "name": "stdout",
     "output_type": "stream",
     "text": [
      "Annuity = 1161.4722313334678\n"
     ]
    }
   ],
   "source": [
    "P = 1000\n",
    "r = .05\n",
    "t = 3\n",
    "n = 12\n",
    "\n",
    "annuity = P * (1 + (r/n))**(n*t)\n",
    "\n",
    "print(\"Annuity =\", annuity)"
   ]
  },
  {
   "cell_type": "markdown",
   "id": "f69ac49f-bda3-4121-b544-932328cd2f65",
   "metadata": {},
   "source": [
    "## The irrational number $e$"
   ]
  },
  {
   "cell_type": "code",
   "execution_count": 1,
   "id": "05fae02a-5c26-4b39-a407-99ed56d0e579",
   "metadata": {},
   "outputs": [
    {
     "name": "stdout",
     "output_type": "stream",
     "text": [
      "2.718281828459045\n"
     ]
    }
   ],
   "source": [
    "import math\n",
    "\n",
    "print(math.e)"
   ]
  },
  {
   "cell_type": "markdown",
   "id": "c011b98e-5798-4fb6-a84f-6b2a978966bc",
   "metadata": {},
   "source": [
    "Continuous growth: $Annuity = Pe^{rt}$"
   ]
  },
  {
   "cell_type": "code",
   "execution_count": 5,
   "id": "938244e7-6d2b-4be9-9a64-8f9b3cd38a6d",
   "metadata": {},
   "outputs": [
    {
     "name": "stdout",
     "output_type": "stream",
     "text": [
      "1161.8298860036332 or 1161.834242728283\n"
     ]
    }
   ],
   "source": [
    "import math\n",
    "\n",
    "p = 1000\n",
    "r = .05\n",
    "t = 3\n",
    "n = 1000\n",
    "\n",
    "n_times = p*(1+(r/n))**(n*t)\n",
    "\n",
    "continuous = p*math.e**(r*t)\n",
    "\n",
    "print(n_times, \"or\", continuous)"
   ]
  },
  {
   "cell_type": "markdown",
   "id": "52def1c8-d9ef-4b2e-a37b-df95dda62f6c",
   "metadata": {},
   "source": [
    "## Mortgage formula\n",
    "\n",
    "monthly payment = $P\\frac{\\frac{r}{12}(1 + \\frac{r}{12})^{12t}}{(1 + \\frac{r}{12})^{12t} - 1}$"
   ]
  },
  {
   "cell_type": "code",
   "execution_count": 8,
   "id": "b4c7cf6f-6803-4b19-8a11-bb7bb8281de9",
   "metadata": {},
   "outputs": [
    {
     "name": "stdout",
     "output_type": "stream",
     "text": [
      "monthly payment = 1362.69\n"
     ]
    }
   ],
   "source": [
    "p = 240000\n",
    "r = .055\n",
    "t = 30 # years\n",
    "\n",
    "# Break down that formula into parts\n",
    "numerator = (r/12)*(1+(r/12))**(12*t)\n",
    "denominator = (1+(r/12))**(12*t) - 1\n",
    "payment = round(p*numerator/denominator, 2)\n",
    "\n",
    "print(\"monthly payment =\", payment)"
   ]
  },
  {
   "cell_type": "markdown",
   "id": "1b17cbd2-7050-40b5-924d-1bbee0c5e08a",
   "metadata": {},
   "source": [
    "## Amortization (mortgage payment schedule)"
   ]
  },
  {
   "cell_type": "code",
   "execution_count": 10,
   "id": "824815f3-9668-43f6-b75e-123d053196dd",
   "metadata": {},
   "outputs": [
    {
     "name": "stdout",
     "output_type": "stream",
     "text": [
      "payment = 1362.69\n",
      "month \t balance \t interest\n",
      "0 \t 240000 \t 1100.0\n",
      "24 \t 233351.69 \t 1069.53\n",
      "48 \t 225932.19 \t 1035.52\n",
      "72 \t 217652.04 \t 997.57\n",
      "96 \t 208411.46 \t 955.22\n",
      "120 \t 198098.97 \t 907.95\n",
      "144 \t 186590.25 \t 855.21\n",
      "168 \t 173746.54 \t 796.34\n",
      "192 \t 159412.99 \t 730.64\n",
      "216 \t 143416.81 \t 657.33\n",
      "240 \t 125565.08 \t 575.51\n",
      "264 \t 105642.58 \t 484.2\n",
      "288 \t 83409.15 \t 382.29\n",
      "312 \t 58596.68 \t 268.57\n",
      "336 \t 30906.0 \t 141.65\n",
      "359 \t 1359.74 \t 6.23\n"
     ]
    }
   ],
   "source": [
    "p = 240000\n",
    "r = .055\n",
    "t = 30 # years\n",
    "\n",
    "# Break down that formula into parts\n",
    "numerator = (r/12)*(1+(r/12))**(12*t)\n",
    "denominator = (1+(r/12))**(12*t) - 1\n",
    "payment = round(p*numerator/denominator, 2)\n",
    "\n",
    "print(\"payment =\", payment)\n",
    "\n",
    "# loop to show interest amounts\n",
    "balance = p\n",
    "print(\"month \\t balance \\t interest\")\n",
    "for a in range(12*t):\n",
    "    interest = round(balance*r/12, 2)\n",
    "    if a%24 == 0 or a == 359:\n",
    "        print(a, \"\\t\", balance, \"\\t\", interest)\n",
    "    balance = round(balance + interest - payment, 2)"
   ]
  },
  {
   "cell_type": "markdown",
   "id": "af48cbff-21f1-4c8a-8a10-a9f0770422bd",
   "metadata": {},
   "source": [
    "## Retirement account estimation"
   ]
  },
  {
   "cell_type": "code",
   "execution_count": 15,
   "id": "bf27c6e3-43c0-4ca7-b7f2-b88e3c03215a",
   "metadata": {},
   "outputs": [
    {
     "name": "stdout",
     "output_type": "stream",
     "text": [
      "annuity =  1061597.32\n",
      "Annual income fom interest = 84927.79\n"
     ]
    }
   ],
   "source": [
    "p = 1000\n",
    "r = .08\n",
    "t = 38\n",
    "monthly = 350\n",
    "annuity = p\n",
    "\n",
    "# loop for contribution and percent growth\n",
    "for a in range(12*t):\n",
    "    annuity = (annuity + monthly) * (1 + (r/12))\n",
    "\n",
    "print(\"annuity = \", round(annuity, 2))\n",
    "print(\"Annual income fom interest =\", round(annuity*r, 2))"
   ]
  },
  {
   "cell_type": "code",
   "execution_count": null,
   "id": "c662ed7f-2fad-457f-939a-fd6d51effb5b",
   "metadata": {},
   "outputs": [],
   "source": []
  }
 ],
 "metadata": {
  "kernelspec": {
   "display_name": "Python 3 (ipykernel)",
   "language": "python",
   "name": "python3"
  },
  "language_info": {
   "codemirror_mode": {
    "name": "ipython",
    "version": 3
   },
   "file_extension": ".py",
   "mimetype": "text/x-python",
   "name": "python",
   "nbconvert_exporter": "python",
   "pygments_lexer": "ipython3",
   "version": "3.10.12"
  }
 },
 "nbformat": 4,
 "nbformat_minor": 5
}
