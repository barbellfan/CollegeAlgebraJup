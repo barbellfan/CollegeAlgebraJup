{
 "cells": [
  {
   "cell_type": "markdown",
   "id": "b3d043e9-7d33-4dec-84c4-debbe6917cd7",
   "metadata": {},
   "source": [
    "# Week 8 Solving Systems of Equations"
   ]
  },
  {
   "cell_type": "markdown",
   "id": "43ba72ea-b615-43e0-8912-8b4f211818d3",
   "metadata": {},
   "source": [
    "Simplest way to solve a system of equations. Set each equation equal to zero."
   ]
  },
  {
   "cell_type": "code",
   "execution_count": 1,
   "id": "5c2b7725-4ad8-4a36-ac69-1ddfd2918a90",
   "metadata": {},
   "outputs": [
    {
     "name": "stdout",
     "output_type": "stream",
     "text": [
      "{(-1, 3)}\n"
     ]
    }
   ],
   "source": [
    "from sympy import *\n",
    "\n",
    "x, y = symbols('x y')\n",
    "\n",
    "# equations set to zero\n",
    "first = 2*x + y - 1\n",
    "second = x - 2*y + 7\n",
    "\n",
    "# the solution:\n",
    "print(linsolve([first, second], (x, y)))"
   ]
  },
  {
   "cell_type": "markdown",
   "id": "1464ef0d-06d0-46dd-bcec-2addb02183ce",
   "metadata": {},
   "source": [
    "In the video, the output looks like this:\n",
    "\n",
    "`FiniteSet((-1, 3))`\n",
    "\n",
    "My output looks like this:\n",
    "\n",
    "`{(-1, 3)}`\n",
    "\n",
    "Nicer looking output"
   ]
  },
  {
   "cell_type": "code",
   "execution_count": 2,
   "id": "f29036df-eed0-48ee-81d1-eec6697aa478",
   "metadata": {},
   "outputs": [
    {
     "name": "stdout",
     "output_type": "stream",
     "text": [
      "( -1 , 3 )\n"
     ]
    }
   ],
   "source": [
    "from sympy import *\n",
    "\n",
    "x, y = symbols('x y')\n",
    "\n",
    "# equations set to zero\n",
    "first = 2*x + y - 1\n",
    "second = x - 2*y + 7\n",
    "\n",
    "# parse finite set answer as coordinate pair\n",
    "solution = linsolve([first, second], (x, y))\n",
    "\n",
    "x_solution = solution.args[0][0]\n",
    "y_solution = solution.args[0][1]\n",
    "\n",
    "# print a coordinate pair\n",
    "print(\"(\", x_solution, \",\", y_solution, \")\")"
   ]
  },
  {
   "cell_type": "code",
   "execution_count": null,
   "id": "73c60bb6-84b1-4418-a361-1c1fc2129602",
   "metadata": {},
   "outputs": [],
   "source": []
  }
 ],
 "metadata": {
  "kernelspec": {
   "display_name": "Python 3 (ipykernel)",
   "language": "python",
   "name": "python3"
  },
  "language_info": {
   "codemirror_mode": {
    "name": "ipython",
    "version": 3
   },
   "file_extension": ".py",
   "mimetype": "text/x-python",
   "name": "python",
   "nbconvert_exporter": "python",
   "pygments_lexer": "ipython3",
   "version": "3.10.12"
  }
 },
 "nbformat": 4,
 "nbformat_minor": 5
}
