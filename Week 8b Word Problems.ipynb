{
 "cells": [
  {
   "cell_type": "markdown",
   "id": "eb8a17c7-b7b9-4f61-9b4c-9b42d8682bd0",
   "metadata": {},
   "source": [
    "# Word problems"
   ]
  },
  {
   "cell_type": "markdown",
   "id": "85a5fed2-2539-40d6-86c7-169596d4ceea",
   "metadata": {},
   "source": [
    "## Key Words"
   ]
  },
  {
   "cell_type": "markdown",
   "id": "e979ee1f-317a-4d6a-86ec-c9662ad990e3",
   "metadata": {},
   "source": [
    "Look for words like this to decide how to solve a word problem:\n",
    "\n",
    "| Add | Subtract | Multiply | Divide | Equals |\n",
    "| :--- | :--- | :--- | :--- | :---|\n",
    "| plus | minus | by | out of | is|\n",
    "| more | less | of | per |\n",
    "| increased | decreased | factor | quotient |\n",
    "| and | gave | times | rate |\n",
    "| received | down | area | divided |\n",
    "| up | subtracted | each | each |\n",
    "| added to | difference |\n",
    "| sum |"
   ]
  },
  {
   "cell_type": "markdown",
   "id": "cf1a8ea4-d855-4e6f-9dff-bb23947e0fe2",
   "metadata": {},
   "source": [
    "# Linear equation exercises"
   ]
  },
  {
   "cell_type": "code",
   "execution_count": null,
   "id": "a182b812-c9d0-4ae5-b098-13576847b287",
   "metadata": {},
   "outputs": [],
   "source": []
  }
 ],
 "metadata": {
  "kernelspec": {
   "display_name": "Python 3 (ipykernel)",
   "language": "python",
   "name": "python3"
  },
  "language_info": {
   "codemirror_mode": {
    "name": "ipython",
    "version": 3
   },
   "file_extension": ".py",
   "mimetype": "text/x-python",
   "name": "python",
   "nbconvert_exporter": "python",
   "pygments_lexer": "ipython3",
   "version": "3.10.12"
  }
 },
 "nbformat": 4,
 "nbformat_minor": 5
}
