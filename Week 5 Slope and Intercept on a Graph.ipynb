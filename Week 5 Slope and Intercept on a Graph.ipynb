{
 "cells": [
  {
   "cell_type": "markdown",
   "metadata": {},
   "source": [
    "# Slope and Intercept on a Graph"
   ]
  },
  {
   "cell_type": "markdown",
   "metadata": {},
   "source": [
    "Slope formula:\n",
    "\n",
    "$ m = \\frac{y_2 - y_1}{x_2 - x_1}   $\n",
    "\n",
    "Where the $ x $ and $y$ values are two different points on a line."
   ]
  },
  {
   "cell_type": "code",
   "execution_count": null,
   "metadata": {},
   "outputs": [],
   "source": [
    "x1 = 1\n",
    "y1 = 7\n",
    "x2 = 2\n",
    "y2 = 10\n",
    "\n",
    "slope = (y2 - y1) / (x2 - x1)\n",
    "\n",
    "print(\"slope = \", slope)"
   ]
  },
  {
   "cell_type": "markdown",
   "metadata": {},
   "source": [
    "Example output:\n",
    "\n",
    "```slope =  3.0```"
   ]
  },
  {
   "cell_type": "markdown",
   "metadata": {},
   "source": [
    "# Slope-intercept equation"
   ]
  },
  {
   "cell_type": "markdown",
   "metadata": {},
   "source": [
    "The slope intercept equation is:\n",
    "\n",
    "$y = mx + b$\n",
    "\n",
    "Say you have a point $(1, 1)$ and a slope of 3. Plug this into the formula:\n",
    "\n",
    "$1 = 3(1) + b \\\\$\n",
    "$1 = 3 + b \\\\$\n",
    "$-2 = b \\\\$\n",
    "\n",
    "Therefore, the equation for this line is:\n",
    "\n",
    "$y = 3x - 2$\n",
    "\n",
    "Use 3 as the slope, and 2 for b. And there it is."
   ]
  },
  {
   "cell_type": "code",
   "execution_count": null,
   "metadata": {},
   "outputs": [],
   "source": [
    "x1 = 1\n",
    "y1 = 7\n",
    "x2 = 2\n",
    "y2 = 10\n",
    "\n",
    "# the slope is \"m\"\n",
    "m = (y2 - y1) / (x2 - x1)\n",
    "\n",
    "# the y intercept is \"b\"\n",
    "b = y1 - m*x1\n",
    "\n",
    "# the full equation\n",
    "print(\"y = \", m, \"x + \", b)"
   ]
  },
  {
   "cell_type": "markdown",
   "metadata": {},
   "source": [
    "Sample output is:\n",
    "\n",
    "```y =  3.0 x + 4.0```"
   ]
  },
  {
   "cell_type": "markdown",
   "metadata": {},
   "source": [
    "Also display the graph"
   ]
  },
  {
   "cell_type": "code",
   "execution_count": null,
   "metadata": {},
   "outputs": [],
   "source": [
    "import matplotlib.pyplot as plt\n",
    "\n",
    "x1 = 1\n",
    "y1 = 7\n",
    "x2 = 2\n",
    "y2 = 10\n",
    "\n",
    "# the slope is \"m\"\n",
    "m = (y2 - y1) / (x2 - x1)\n",
    "\n",
    "# the y intercept is \"b\"\n",
    "b = y1 - m*x1\n",
    "\n",
    "# the full equation\n",
    "print(\"y = \", m, \"x + \", b)\n",
    "\n",
    "# for the graph\n",
    "xmin = -10\n",
    "xmax = 10\n",
    "ymin = -10\n",
    "ymax = 10\n",
    "\n",
    "# for the line on the graph\n",
    "y3 = m*xmin + b\n",
    "y4 = m*xmax + b\n",
    "\n",
    "# basic setup for the graph\n",
    "fig, ax = plt.subplots()\n",
    "plt.axis([xmin,xmax,ymin,ymax]) # window size\n",
    "plt.plot([xmin,xmax],[0,0], 'b') # blue x axis\n",
    "plt.plot([0,0],[ymin,ymax], 'b') # blue y axis\n",
    "\n",
    "# plot the linear function as a red line\n",
    "plt.plot([xmin,xmax],[y3,y4], 'r')\n",
    "\n",
    "plt.show()"
   ]
  },
  {
   "cell_type": "markdown",
   "metadata": {},
   "source": [
    "Sample output:\n",
    "\n",
    "$y =  3.0 x +  4.0$\n",
    "\n",
    "Plus a pretty graph."
   ]
  },
  {
   "cell_type": "markdown",
   "metadata": {},
   "source": [
    "# Extras"
   ]
  },
  {
   "cell_type": "markdown",
   "metadata": {},
   "source": [
    "## Population exercise"
   ]
  },
  {
   "cell_type": "markdown",
   "metadata": {},
   "source": [
    "A town's population increases at a constant rate. In 2010 the population was 55,000. By 2012 the population had increased to 76,000. If this trend continues, predict the population in 2016.\n",
    "\n",
    "These are two points. The year is the X axis, and the population is the Y axis:\n",
    "\n",
    "$(2010, 55000)$\n",
    "\n",
    "$(2012, 76000)$\n",
    "\n",
    "But set 2010 as time zero:\n",
    "\n",
    "$(0, 55000)$\n",
    "\n",
    "$(6, 76000)$"
   ]
  },
  {
   "cell_type": "code",
   "execution_count": 4,
   "metadata": {},
   "outputs": [
    {
     "name": "stdout",
     "output_type": "stream",
     "text": [
      "y = 10.5 x + 55.0\n"
     ]
    },
    {
     "data": {
      "image/png": "[encoded data removed]",
      "text/plain": [
       "<Figure size 640x480 with 1 Axes>"
      ]
     },
     "metadata": {},
     "output_type": "display_data"
    }
   ],
   "source": [
    "import matplotlib.pyplot as plt\n",
    "import numpy as np\n",
    "\n",
    "x1 = 0\n",
    "y1 = 55\n",
    "x2 = 2\n",
    "y2 = 76\n",
    "\n",
    "# Develop the equation y = mx + b\n",
    "m = (y2 - y1) / (x2 - x1)\n",
    "b = y1 - m*x1\n",
    "print(\"y =\", m, \"x +\", b)\n",
    "\n",
    "# for the graph\n",
    "xmin = 0\n",
    "xmax = 10\n",
    "ymin = 0\n",
    "ymax = 150\n",
    "\n",
    "# for the line on the graph\n",
    "y3 = m*xmin + b\n",
    "y4 = m*xmax + b\n",
    "\n",
    "# basic setup for the graph\n",
    "fig, ax = plt.subplots()\n",
    "plt.axis([xmin,xmax,ymin,ymax]) # window size\n",
    "plt.plot([xmin,xmax],[0,0], 'b') # blue x axis\n",
    "plt.plot([0,0],[ymin,ymax], 'b') # blue y axis\n",
    "\n",
    "# Add details to the graph\n",
    "ax.set_xlabel(\"time\")\n",
    "ax.set_ylabel(\"population\")\n",
    "ax.grid(True)\n",
    "#ax.set_xticks(np.arange(xmin, xmax, 2))\n",
    "#ax.set_yticks(np.arange(ymin, ymax, 2))\n",
    "\n",
    "# plot the linear function as a red line\n",
    "plt.plot([xmin,xmax],[y3,y4], 'r')\n",
    "\n",
    "plt.show()\n"
   ]
  },
  {
   "cell_type": "markdown",
   "metadata": {},
   "source": [
    "Sample output:\n",
    "\n",
    "$y = 10.5 x + 55.0$\n",
    "\n",
    "Looking at the line, the approximate population in 2016 will be about 120,000."
   ]
  },
  {
   "cell_type": "markdown",
   "metadata": {},
   "source": [
    "## Common Cold Exercise"
   ]
  },
  {
   "cell_type": "markdown",
   "metadata": {},
   "source": [
    "The number of people afflicted with the common cold in the winter months dropped steadily by 50 each year since 2004 until 2010. In 2004, 875 were afflicted.\n",
    "Find the linear function that model the number of people afflicted with the common cold C as a function of the year, t. When will no one be afflicted?\n",
    "\n",
    "Time zero is 2004.\n",
    "\n",
    "Use the same code as above."
   ]
  },
  {
   "cell_type": "code",
   "execution_count": 11,
   "metadata": {},
   "outputs": [
    {
     "name": "stdout",
     "output_type": "stream",
     "text": [
      "y = -50.0 x + 875.0\n",
      "after 5 years, number afflicted will be approx:  625\n",
      "number of years with noone will be afflicted:  35/2\n"
     ]
    },
    {
     "data": {
      "image/png": "[encoded data removed]",
      "text/plain": [
       "<Figure size 640x480 with 1 Axes>"
      ]
     },
     "metadata": {},
     "output_type": "display_data"
    }
   ],
   "source": [
    "import matplotlib.pyplot as plt\n",
    "import numpy as np\n",
    "import sympy\n",
    "from sympy import symbols\n",
    "from sympy.solvers import solve\n",
    "\n",
    "x1 = 0\n",
    "y1 = 875\n",
    "x2 = 1\n",
    "y2 = 825\n",
    "\n",
    "# Develop the equation y = mx + b\n",
    "m = (y2 - y1) / (x2 - x1)\n",
    "b = y1 - m*x1\n",
    "print(\"y =\", m, \"x +\", b)\n",
    "print(\"after 5 years, number afflicted will be approx: \", -50 * 5 + 875)\n",
    "\n",
    "x = symbols('x')\n",
    "eq = 875 - 50*x\n",
    "solution = solve(eq, x)\n",
    "print(\"number of years with noone will be afflicted: \", solution[0])\n",
    "\n",
    "# for the graph\n",
    "xmin = 0\n",
    "xmax = 20\n",
    "ymin = 0\n",
    "ymax = 900\n",
    "\n",
    "# for the line on the graph\n",
    "y3 = m*xmin + b\n",
    "y4 = m*xmax + b\n",
    "\n",
    "# basic setup for the graph\n",
    "fig, ax = plt.subplots()\n",
    "plt.axis([xmin,xmax,ymin,ymax]) # window size\n",
    "plt.plot([xmin,xmax],[0,0], 'b') # blue x axis\n",
    "plt.plot([0,0],[ymin,ymax], 'b') # blue y axis\n",
    "\n",
    "# Add details to the graph\n",
    "ax.set_xlabel(\"time\")\n",
    "ax.set_ylabel(\"cases\")\n",
    "ax.grid(True)\n",
    "#ax.set_xticks(np.arange(xmin, xmax, 2))\n",
    "#ax.set_yticks(np.arange(ymin, ymax, 2))\n",
    "\n",
    "# plot the linear function as a red line\n",
    "plt.plot([xmin,xmax],[y3,y4], 'r')\n",
    "\n",
    "plt.show()\n"
   ]
  },
  {
   "cell_type": "markdown",
   "metadata": {},
   "source": [
    "Sample run:\n",
    "\n",
    "$y = -50.0 x + 875.0$\n",
    "\n",
    "after 5 years, number afflicted will be approx: $625$\n",
    "\n",
    "number of years when noone will be afflicted:  $35/2$ or $17.5$ years"
   ]
  },
  {
   "cell_type": "markdown",
   "metadata": {},
   "source": [
    "## Profit Calculation exercise"
   ]
  },
  {
   "cell_type": "markdown",
   "metadata": {},
   "source": [
    "Given the graph, find the linear function to describe it. Then, find and interpret the y-intercept.\n",
    "\n",
    "The x axis on the graph starts at 0 and goes to 30. The y axis start from 0 and goes to 12,000. Here are the beginning and ending points on the line:\n",
    "\n",
    "$(5, 10000)$\n",
    "\n",
    "$(25, 4000)$"
   ]
  },
  {
   "cell_type": "code",
   "execution_count": 17,
   "metadata": {},
   "outputs": [
    {
     "name": "stdout",
     "output_type": "stream",
     "text": [
      "y = -300.0 x + 11500.0\n",
      "year of y-intercept: 115/3\n"
     ]
    },
    {
     "data": {
      "image/png": "[encoded data removed]",
      "text/plain": [
       "<Figure size 640x480 with 1 Axes>"
      ]
     },
     "metadata": {},
     "output_type": "display_data"
    }
   ],
   "source": [
    "import matplotlib.pyplot as plt\n",
    "import numpy as np\n",
    "import sympy\n",
    "from sympy import symbols\n",
    "from sympy.solvers import solve\n",
    "\n",
    "x1 = 5\n",
    "y1 = 10000\n",
    "x2 = 25\n",
    "y2 = 4000\n",
    "\n",
    "# Develop the equation y = mx + b\n",
    "m = (y2 - y1) / (x2 - x1)\n",
    "b = y1 - m*x1\n",
    "print(\"y =\", m, \"x +\", b)\n",
    "\n",
    "x = symbols('x')\n",
    "eq = 11500 - 300*x\n",
    "solution = solve(eq, x)\n",
    "print(\"year of y-intercept:\", solution[0])\n",
    "\n",
    "# for the graph\n",
    "xmin = 0\n",
    "xmax = 40\n",
    "ymin = 0\n",
    "ymax = 12000\n",
    "\n",
    "# for the line on the graph\n",
    "y3 = m*xmin + b\n",
    "y4 = m*xmax + b\n",
    "\n",
    "# basic setup for the graph\n",
    "fig, ax = plt.subplots()\n",
    "plt.axis([xmin,xmax,ymin,ymax]) # window size\n",
    "plt.plot([xmin,xmax],[0,0], 'b') # blue x axis\n",
    "plt.plot([0,0],[ymin,ymax], 'b') # blue y axis\n",
    "\n",
    "# Add details to the graph\n",
    "ax.set_xlabel(\"time\")\n",
    "ax.set_ylabel(\"profit\")\n",
    "ax.grid(True)\n",
    "#ax.set_xticks(np.arange(xmin, xmax, 2))\n",
    "#ax.set_yticks(np.arange(ymin, ymax, 1))\n",
    "\n",
    "# plot the linear function as a red line\n",
    "plt.plot([xmin,xmax],[y3,y4], 'r')\n",
    "\n",
    "plt.show()\n"
   ]
  },
  {
   "cell_type": "markdown",
   "metadata": {},
   "source": [
    "Sample run:\n",
    "\n",
    "$y = -300.0 x + 11500.0$\n",
    "\n",
    "year of y-intercept: $115/3$ or $38.33$"
   ]
  },
  {
   "cell_type": "markdown",
   "metadata": {},
   "source": [
    "## School population exercise:"
   ]
  },
  {
   "cell_type": "markdown",
   "metadata": {},
   "source": [
    "In 2004, a school population was 1,700. By 2012, the population had grown to 2,500.\n",
    "\n",
    "How much did the population grow between 2004 and 2012?\n",
    "\n",
    "What is the average population growth per year?\n",
    "\n",
    "Find an equation for the population, $P$, of the school $t$ years after 2004.\n",
    "\n",
    "Year 2004 is time zero."
   ]
  },
  {
   "cell_type": "code",
   "execution_count": 18,
   "metadata": {},
   "outputs": [
    {
     "name": "stdout",
     "output_type": "stream",
     "text": [
      "y = 100.0 x + 1700.0\n"
     ]
    },
    {
     "data": {
      "image/png": "[encoded data removed]",
      "text/plain": [
       "<Figure size 640x480 with 1 Axes>"
      ]
     },
     "metadata": {},
     "output_type": "display_data"
    }
   ],
   "source": [
    "import matplotlib.pyplot as plt\n",
    "import numpy as np\n",
    "import sympy\n",
    "from sympy import symbols\n",
    "from sympy.solvers import solve\n",
    "\n",
    "x1 = 0\n",
    "y1 = 1700\n",
    "x2 = 8\n",
    "y2 = 2500\n",
    "\n",
    "# Develop the equation y = mx + b\n",
    "m = (y2 - y1) / (x2 - x1)\n",
    "b = y1 - m*x1\n",
    "print(\"y =\", m, \"x +\", b)\n",
    "\n",
    "x = symbols('x')\n",
    "\n",
    "# for the graph\n",
    "xmin = 0\n",
    "xmax = 10\n",
    "ymin = 0\n",
    "ymax = 3000\n",
    "\n",
    "# for the line on the graph\n",
    "y3 = m*xmin + b\n",
    "y4 = m*xmax + b\n",
    "\n",
    "# basic setup for the graph\n",
    "fig, ax = plt.subplots()\n",
    "plt.axis([xmin,xmax,ymin,ymax]) # window size\n",
    "plt.plot([xmin,xmax],[0,0], 'b') # blue x axis\n",
    "plt.plot([0,0],[ymin,ymax], 'b') # blue y axis\n",
    "\n",
    "# Add details to the graph\n",
    "ax.set_xlabel(\"time\")\n",
    "ax.set_ylabel(\"population\")\n",
    "ax.grid(True)\n",
    "#ax.set_xticks(np.arange(xmin, xmax, 2))\n",
    "#ax.set_yticks(np.arange(ymin, ymax, 1))\n",
    "\n",
    "# plot the linear function as a red line\n",
    "plt.plot([xmin,xmax],[y3,y4], 'r')\n",
    "\n",
    "plt.show()\n"
   ]
  },
  {
   "cell_type": "markdown",
   "metadata": {},
   "source": [
    "Sample output:\n",
    "\n",
    "$100.0 x + 1700.0$\n",
    "\n",
    "Average growth per year is $100$"
   ]
  }
 ],
 "metadata": {
  "kernelspec": {
   "display_name": "Python 3",
   "language": "python",
   "name": "python3"
  },
  "language_info": {
   "codemirror_mode": {
    "name": "ipython",
    "version": 3
   },
   "file_extension": ".py",
   "mimetype": "text/x-python",
   "name": "python",
   "nbconvert_exporter": "python",
   "pygments_lexer": "ipython3",
   "version": "3.10.12"
  }
 },
 "nbformat": 4,
 "nbformat_minor": 2
}
