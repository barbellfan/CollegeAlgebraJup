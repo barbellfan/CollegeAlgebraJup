{
 "cells": [
  {
   "cell_type": "markdown",
   "metadata": {},
   "source": [
    "# Factoring"
   ]
  },
  {
   "cell_type": "markdown",
   "metadata": {},
   "source": [
    "Reduce fractions by factoring. Find common factor between the num and the denom."
   ]
  },
  {
   "cell_type": "markdown",
   "metadata": {},
   "source": [
    "The modulus (%) finds the remainder."
   ]
  },
  {
   "cell_type": "code",
   "execution_count": 1,
   "metadata": {},
   "outputs": [
    {
     "name": "stdout",
     "output_type": "stream",
     "text": [
      "2\n",
      "1\n"
     ]
    }
   ],
   "source": [
    "print(5%3)\n",
    "\n",
    "print(31%10)"
   ]
  },
  {
   "cell_type": "markdown",
   "metadata": {},
   "source": [
    "Sample output:\n",
    "\n",
    "$2$\n",
    "\n",
    "$1$"
   ]
  },
  {
   "cell_type": "markdown",
   "metadata": {},
   "source": [
    "Use the modulus in a loop to find factors."
   ]
  },
  {
   "cell_type": "code",
   "execution_count": 2,
   "metadata": {},
   "outputs": [
    {
     "name": "stdout",
     "output_type": "stream",
     "text": [
      "1\n",
      "2\n",
      "3\n",
      "4\n",
      "6\n",
      "12\n"
     ]
    }
   ],
   "source": [
    "number = 12\n",
    "\n",
    "# Find all factors\n",
    "for test_factor in range(1, number + 1):\n",
    "    if number % test_factor == 0:\n",
    "        print(test_factor)"
   ]
  },
  {
   "cell_type": "markdown",
   "metadata": {},
   "source": [
    "Sample output:\n",
    "\n",
    "1<br>\n",
    "2<br>\n",
    "3<br>\n",
    "4<br>\n",
    "6<br>\n",
    "12"
   ]
  },
  {
   "cell_type": "markdown",
   "metadata": {},
   "source": [
    "Reduce fractions to the lowest terms."
   ]
  },
  {
   "cell_type": "code",
   "execution_count": 9,
   "metadata": {},
   "outputs": [
    {
     "name": "stdout",
     "output_type": "stream",
     "text": [
      "original: 12 / 24\n",
      "reduced: 1 / 2\n"
     ]
    }
   ],
   "source": [
    "numerator = 12\n",
    "denominator = 24\n",
    "factor = 1\n",
    "\n",
    "# Find greatest common factor\n",
    "for test_factor in range(1, denominator + 1):\n",
    "    if numerator % test_factor == 0 and denominator % test_factor == 0:\n",
    "        factor = test_factor\n",
    "\n",
    "# Divide out greatest common factor\n",
    "n = int(numerator/factor)\n",
    "d = int(denominator/factor)\n",
    "\n",
    "print(\"original:\", numerator, \"/\", denominator)\n",
    "print(\"reduced:\", n, \"/\", d)"
   ]
  },
  {
   "cell_type": "markdown",
   "metadata": {},
   "source": [
    "Output when numerator = 12 and denominator = 24\n",
    "\n",
    "original: 12 / 24\n",
    "\n",
    "reduced: 1 / 2"
   ]
  },
  {
   "cell_type": "markdown",
   "metadata": {},
   "source": [
    "You can add this code to the decimal-to-fraction code"
   ]
  },
  {
   "cell_type": "code",
   "execution_count": 13,
   "metadata": {},
   "outputs": [
    {
     "name": "stdout",
     "output_type": "stream",
     "text": [
      "The decimal is 0.125\n",
      "The fraction is 1 / 8\n"
     ]
    }
   ],
   "source": [
    "# Get the decimal number to convert\n",
    "digits = input(\"Enter a decimal number to convert: \")\n",
    "\n",
    "# Convert to a fraction\n",
    "exponent = int(len(digits)) - 1\n",
    "n = float(digits)\n",
    "numerator = int(n * 10**exponent)\n",
    "denominator = 10**exponent\n",
    "\n",
    "# Reduce that fraction\n",
    "factor = 1\n",
    "for test_factor in range(1, denominator + 1):\n",
    "    if numerator % test_factor == 0 and denominator % test_factor == 0:\n",
    "        factor = test_factor\n",
    "\n",
    "# Divide out greatest common factor\n",
    "num = int(numerator/factor)\n",
    "den = int(denominator/factor)\n",
    "\n",
    "# Output\n",
    "print(\"The decimal is\", n)\n",
    "print(\"The fraction is\", num, \"/\", den)"
   ]
  },
  {
   "cell_type": "markdown",
   "metadata": {},
   "source": [
    "Some sample outputs:\n",
    "\n",
    "The decimal is 0.75\n",
    "\n",
    "The fraction is 3 / 4\n",
    "\n",
    "<br/>\n",
    "\n",
    "The decimal is 0.45\n",
    "\n",
    "The fraction is 9 / 20\n",
    "\n",
    "<br/>\n",
    "\n",
    "The decimal is 0.125\n",
    "\n",
    "The fraction is 1 / 8"
   ]
  },
  {
   "cell_type": "markdown",
   "metadata": {},
   "source": [
    "Factoring square roots"
   ]
  },
  {
   "cell_type": "code",
   "execution_count": 15,
   "metadata": {},
   "outputs": [
    {
     "name": "stdout",
     "output_type": "stream",
     "text": [
      "4.898979485566356\n"
     ]
    }
   ],
   "source": [
    "import math\n",
    "\n",
    "print(math.sqrt(24))"
   ]
  },
  {
   "cell_type": "markdown",
   "metadata": {},
   "source": [
    "Divide out any perfect square factors. For example:\n",
    "\n",
    "$\\sqrt{12} = \\sqrt{4 * 3} = 2\\sqrt{3}$\n",
    "\n",
    "Because 4 is a square number, the square root of 4 is now outside the radical."
   ]
  },
  {
   "cell_type": "code",
   "execution_count": 16,
   "metadata": {},
   "outputs": [
    {
     "name": "stdout",
     "output_type": "stream",
     "text": [
      "n = 12\n",
      "Square rooted factor = 2\n",
      "Square factor =  4\n",
      "integer: 3.0\n"
     ]
    }
   ],
   "source": [
    "import math\n",
    "\n",
    "# number to factor\n",
    "n = 12\n",
    "\n",
    "# This variable will change\n",
    "max_factor = 1\n",
    "\n",
    "# the key ingredient\n",
    "upper_limit = math.floor(math.sqrt(n)) + 1\n",
    "\n",
    "# Find square factors\n",
    "for maybe_factor in range(1, upper_limit):\n",
    "    if n % (maybe_factor **2) == 0:\n",
    "        max_factor = maybe_factor\n",
    "\n",
    "# Results so far\n",
    "print(\"n =\", n)\n",
    "print(\"Square rooted factor =\", max_factor)\n",
    "print(\"Square factor = \", max_factor**2)\n",
    "print(\"integer:\", n/(max_factor**2))"
   ]
  },
  {
   "cell_type": "markdown",
   "metadata": {},
   "source": [
    "Sample output:\n",
    "\n",
    "n = 12\n",
    "\n",
    "Square rooted factor = 2\n",
    "\n",
    "Square factor =  4\n",
    "\n",
    "integer: 3.0"
   ]
  },
  {
   "cell_type": "markdown",
   "metadata": {},
   "source": [
    "Use Sympy to make it look nice"
   ]
  },
  {
   "cell_type": "code",
   "execution_count": 25,
   "metadata": {},
   "outputs": [
    {
     "data": {
      "text/latex": [
       "$\\displaystyle \\sqrt{55}$"
      ],
      "text/plain": [
       "sqrt(55)"
      ]
     },
     "execution_count": 25,
     "metadata": {},
     "output_type": "execute_result"
    }
   ],
   "source": [
    "import math\n",
    "import sympy\n",
    "from sympy import symbols\n",
    "\n",
    "n = 55\n",
    "\n",
    "# Use these variables\n",
    "upper_limit = math.floor(math.sqrt(n)) + 1\n",
    "max_factor = 1\n",
    "other_factor = 1\n",
    "square_root = 1\n",
    "\n",
    "# Slightly different variable strategy\n",
    "for maybe_factor in range(1, upper_limit):\n",
    "    if n % (maybe_factor ** 2) == 0:\n",
    "        max_factor = maybe_factor ** 2\n",
    "\n",
    "# Divide out greatest square factor\n",
    "other_factor = n/max_factor\n",
    "\n",
    "# Output variables\n",
    "square_root = int(math.sqrt(max_factor))\n",
    "other_factor = int(other_factor)\n",
    "output = square_root*sympy.sqrt(other_factor)\n",
    "\n",
    "# Sympy output without print statement - must be last line\n",
    "output"
   ]
  },
  {
   "cell_type": "markdown",
   "metadata": {},
   "source": [
    "Outputs:\n",
    "\n",
    "12: $2\\sqrt{3}$<br>\n",
    "24: $2\\sqrt{6}$<br>\n",
    "40: $2\\sqrt{10}$<br>"
   ]
  }
 ],
 "metadata": {
  "kernelspec": {
   "display_name": "Python 3",
   "language": "python",
   "name": "python3"
  },
  "language_info": {
   "codemirror_mode": {
    "name": "ipython",
    "version": 3
   },
   "file_extension": ".py",
   "mimetype": "text/x-python",
   "name": "python",
   "nbconvert_exporter": "python",
   "pygments_lexer": "ipython3",
   "version": "3.10.12"
  }
 },
 "nbformat": 4,
 "nbformat_minor": 2
}
