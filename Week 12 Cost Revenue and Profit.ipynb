{
 "cells": [
  {
   "cell_type": "markdown",
   "id": "65f386cd-a45a-4d8f-8e83-21f35ab525d3",
   "metadata": {},
   "source": [
    "# Cost, Revenue, and Profit Equations"
   ]
  },
  {
   "cell_type": "code",
   "execution_count": null,
   "id": "c8f92b22-9247-4d2c-8873-25a8116da6d9",
   "metadata": {},
   "outputs": [],
   "source": []
  }
 ],
 "metadata": {
  "kernelspec": {
   "display_name": "Python 3 (ipykernel)",
   "language": "python",
   "name": "python3"
  },
  "language_info": {
   "codemirror_mode": {
    "name": "ipython",
    "version": 3
   },
   "file_extension": ".py",
   "mimetype": "text/x-python",
   "name": "python",
   "nbconvert_exporter": "python",
   "pygments_lexer": "ipython3",
   "version": "3.10.12"
  }
 },
 "nbformat": 4,
 "nbformat_minor": 5
}
