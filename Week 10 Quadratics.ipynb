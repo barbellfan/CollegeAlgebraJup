{
 "cells": [
  {
   "cell_type": "markdown",
   "id": "9d855c8d-fc0a-44c3-9f30-a44377101a3a",
   "metadata": {},
   "source": [
    "# Quadratics"
   ]
  },
  {
   "cell_type": "markdown",
   "id": "4b9b0137-06e3-4ab2-a679-188532c3616d",
   "metadata": {},
   "source": [
    "## Solve a quadratic equation"
   ]
  },
  {
   "cell_type": "code",
   "execution_count": 4,
   "id": "f302a6bf-b81f-42b6-be33-d71525526b58",
   "metadata": {},
   "outputs": [
    {
     "name": "stdout",
     "output_type": "stream",
     "text": [
      "y = 1 x**2 + 5 x + 6\n",
      "Vertex: ( -2.5 , -0.25 )\n",
      "Roots: x = -2.0 and x = -3.0\n"
     ]
    }
   ],
   "source": [
    "import math\n",
    "\n",
    "# Coefficient values\n",
    "a = 1\n",
    "b = 5\n",
    "c = 6\n",
    "\n",
    "print(\"y =\", a, \"x**2 +\", b, \"x +\", c)\n",
    "\n",
    "# Vertex\n",
    "vx = -b/(2*a)\n",
    "vy = a *(vx **2) + b*vx + c\n",
    "print(\"Vertex: (\", vx,\",\",vy,\")\")\n",
    "\n",
    "# Roots\n",
    "# d is the determinant\n",
    "d = b**2 - 4*a*c\n",
    "if d >= 0:\n",
    "    root_1 = (-b + math.sqrt(d))/(2*a)\n",
    "    root_2 = (-b - math.sqrt(d))/(2*a)\n",
    "    print(\"Roots: x =\", root_1, \"and x =\", root_2)\n",
    "else:\n",
    "    print(\"No real roots\")"
   ]
  },
  {
   "cell_type": "code",
   "execution_count": null,
   "id": "2003d3be-b1af-4b8c-b171-b785c33bd0ea",
   "metadata": {},
   "outputs": [],
   "source": []
  }
 ],
 "metadata": {
  "kernelspec": {
   "display_name": "Python 3 (ipykernel)",
   "language": "python",
   "name": "python3"
  },
  "language_info": {
   "codemirror_mode": {
    "name": "ipython",
    "version": 3
   },
   "file_extension": ".py",
   "mimetype": "text/x-python",
   "name": "python",
   "nbconvert_exporter": "python",
   "pygments_lexer": "ipython3",
   "version": "3.10.12"
  }
 },
 "nbformat": 4,
 "nbformat_minor": 5
}
