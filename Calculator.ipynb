{
 "cells": [
  {
   "cell_type": "markdown",
   "metadata": {
    "id": "byGYV_r15SQs"
   },
   "source": [
    "# Proportions"
   ]
  },
  {
   "cell_type": "markdown",
   "metadata": {
    "id": "-zK_E5Z85WiO"
   },
   "source": [
    "Set up a new proportion:\n",
    "$\\frac{n1}{d1}=\\frac{n2}{d2} $"
   ]
  },
  {
   "cell_type": "code",
   "execution_count": null,
   "metadata": {
    "colab": {
     "base_uri": "https://localhost:8080/"
    },
    "executionInfo": {
     "elapsed": 5221,
     "status": "ok",
     "timestamp": 1709782837358,
     "user": {
      "displayName": "Chris Allen",
      "userId": "14806503967616652049"
     },
     "user_tz": 480
    },
    "id": "t5wCwnQkCe4D",
    "outputId": "fcc9a42e-1f8a-4476-d52c-aed263f80221"
   },
   "outputs": [],
   "source": [
    "def enter_parameters():\n",
    "  # Put a zero in for the unknown value\n",
    "  n1 = float(input(\"Enter the value for n1: \"))\n",
    "  d1 = float(input(\"Enter the value for d1: \"))\n",
    "  n2 = float(input(\"Enter the value for n2 (zero for unknown): \"))\n",
    "  d2 = float(input(\"Enter the value for d2 (zero for unknown): \"))\n",
    "\n",
    "  result = calculate_proportion(n1, d1, n2, d2)\n",
    "  print(result)\n",
    "\n",
    "def calculate_proportion(n1: float, d1: float, n2: float, d2: float) -> str:\n",
    "\n",
    "  if n2 == 0 and d2 == 0:\n",
    "    return \"n2 and d2 cannot both be zero\"\n",
    "  elif n2 != 0 and d2 != 0:\n",
    "    return \"Either n2 or d2 must be zero\"\n",
    "  else:\n",
    "    if n2==0:\n",
    "      answer = d2 * n1 / d1\n",
    "      return \"n2 = {}\".format(answer)\n",
    "\n",
    "    if d2 == 0:\n",
    "      answer = n2*d1 / n1\n",
    "      return \"d2 = {}\".format(answer)\n",
    "\n",
    "def main():\n",
    "  enter_parameters()\n",
    "\n",
    "if __name__ == \"__main__\":\n",
    "  main()\n"
   ]
  },
  {
   "cell_type": "markdown",
   "metadata": {
    "id": "64X25lzte9Jh"
   },
   "source": [
    "# Solving equations"
   ]
  },
  {
   "cell_type": "code",
   "execution_count": null,
   "metadata": {
    "colab": {
     "base_uri": "https://localhost:8080/"
    },
    "executionInfo": {
     "elapsed": 3396,
     "status": "ok",
     "timestamp": 1710013956418,
     "user": {
      "displayName": "Chris Allen",
      "userId": "14806503967616652049"
     },
     "user_tz": 480
    },
    "id": "9s9B-HToe_lx",
    "outputId": "36f70789-c6e3-4eaf-82c9-99a24c524387"
   },
   "outputs": [],
   "source": [
    "from sympy import *\n",
    "\n",
    "def solve_for_x(eq):\n",
    "    '''\n",
    "    Solve an equation with one variable.\n",
    "\n",
    "    Args:\n",
    "        eq (sympy equation): an equation with one unknown named x\n",
    "\n",
    "    Returns:\n",
    "        The result of sympy's solve function.\n",
    "\n",
    "    Example equation:\n",
    "\n",
    "    2*x**2 + 1\n",
    "\n",
    "    This will return:\n",
    "\n",
    "    [-sqrt(2)*I/2, sqrt(2)*I/2]\n",
    "    '''\n",
    "    x = symbols('x')\n",
    "\n",
    "    # Put the equation here\n",
    "    return solve(eq, x)\n",
    "\n",
    "def main():\n",
    "  inp = input(\"Enter an equation with one variable, x: \")\n",
    "  eq = sympify(inp)\n",
    "  ans = solve_for_x(eq)\n",
    "  for s in ans:\n",
    "    print(s)\n",
    "\n",
    "if __name__ == \"__main__\":\n",
    "  main()"
   ]
  },
  {
   "cell_type": "markdown",
   "metadata": {
    "id": "GEdz3_W34dkX"
   },
   "source": [
    "Practice solving for unknowns"
   ]
  },
  {
   "cell_type": "code",
   "execution_count": null,
   "metadata": {
    "colab": {
     "base_uri": "https://localhost:8080/"
    },
    "executionInfo": {
     "elapsed": 14437,
     "status": "ok",
     "timestamp": 1710015805475,
     "user": {
      "displayName": "Chris Allen",
      "userId": "14806503967616652049"
     },
     "user_tz": 480
    },
    "id": "MyKXSm1t4g3k",
    "outputId": "4972ad5a-1265-46ea-94d2-2e5ea751b109"
   },
   "outputs": [],
   "source": [
    "# converts string input (including fractions) to float\n",
    "def string_frac(in_string):\n",
    "  if \"/\" in in_string:\n",
    "    nd = in_string.split(\"/\")\n",
    "    n = float(nd[0])\n",
    "    d = float(nd[1])\n",
    "    ans = n/d\n",
    "    return ans\n",
    "  else:\n",
    "    ans = float(in_string)\n",
    "    return ans\n",
    "\n",
    "#simplest one-step addition\n",
    "def one_step_add():\n",
    "  '''\n",
    "  Presents a simple equation to solve for x. Example:\n",
    "\n",
    "  x +  -4  =  8\n",
    "\n",
    "  The correct answer is 12, found by adding 4 to both sides.\n",
    "  '''\n",
    "  import random\n",
    "  # display problem\n",
    "  a = random.randint(-4,10)\n",
    "  b = random.randint(2,24)\n",
    "  print(\"x + \", a, \" = \", b)\n",
    "  ans = float(input(\"x = \"))\n",
    "  answer = b-a\n",
    "  if ans== answer:\n",
    "    print(\"Correct! \\n\")\n",
    "  else:\n",
    "    print(\"Try again\")\n",
    "    print(\"The correct answer is \", answer, \"\\n\")\n",
    "\n",
    "# one-step addition with negative numbers\n",
    "def one_step_subtract():\n",
    "  '''\n",
    "  Presents a simple equation to solve for x. Example:\n",
    "\n",
    "  -14  + x =  23\n",
    "\n",
    "  The correct answer is 37, found by adding 14 to both sides.\n",
    "  '''\n",
    "  import random\n",
    "  a = random.randint(-19,-1)\n",
    "  b = random.randint(2,24)\n",
    "  print(a, \" + x = \", b)\n",
    "  ans = float(input(\"x = \"))\n",
    "  answer = b - a\n",
    "  if ans==answer:\n",
    "    print(\"Correct! \\n\")\n",
    "  else:\n",
    "    print(\"Try again\")\n",
    "    print(\"The correct answer is \", answer, \"\\n\")\n",
    "\n",
    "# one-step multiply\n",
    "def one_step_mult():\n",
    "  '''\n",
    "  Presents a simple equation to solve for x. Example:\n",
    "\n",
    "  6 x =  13\n",
    "\n",
    "  The correct answer is 13/6, found by dividing both sides by 6.\n",
    "  '''\n",
    "  # uses string_frac(<input string>)\n",
    "  import random\n",
    "  a = random.randint(1,11)\n",
    "  b = random.randint(2,24)\n",
    "  print(a, \"x = \", b)\n",
    "  ans_in = (input(\"x = \"))\n",
    "  answer = b/a\n",
    "  if string_frac(ans_in) == answer:\n",
    "    print(\"Correct! \\n\")\n",
    "  else:\n",
    "    print(\"Try again \\n\")\n",
    "    print(\"The correct answer is \", answer, \"\\n\")\n",
    "\n",
    "def main():\n",
    "  one_step_mult()\n",
    "  one_step_subtract()\n",
    "  one_step_add()\n",
    "\n",
    "if __name__ == \"__main__\":\n",
    "  main()\n",
    "\n"
   ]
  },
  {
   "cell_type": "markdown",
   "metadata": {
    "id": "FMpSnehrxv7o"
   },
   "source": [
    "# Factoring"
   ]
  },
  {
   "cell_type": "code",
   "execution_count": null,
   "metadata": {
    "id": "Mdrbo1Zfxxnt"
   },
   "outputs": [],
   "source": [
    "import sympy\n",
    "from sympy import var\n",
    "from sympy import sympify\n",
    "\n",
    "def factor(eq):\n",
    "  '''\n",
    "  Factor an equation with one or two unknowns named x and y.\n",
    "\n",
    "  Args:\n",
    "    eq (sympy equation): an equation with one or two unknowns named x and y\n",
    "\n",
    "  Returns:\n",
    "    The result of sympy's factor() function\n",
    "\n",
    "  Example equations:\n",
    "    2*x + 10*y + 4\n",
    "    x**2 - 4\n",
    "    x**3 - 2*x**2 - 5*x + 6\n",
    "\n",
    "  '''\n",
    "  x, y = var('x y')\n",
    "  return sympy.factor(eq)\n",
    "\n",
    "def main():\n",
    "  inp = input(\"Enter a equation with one or two variables (x and y) that can be factored: \")\n",
    "  eq = sympify(inp)\n",
    "  ans = factor(eq)\n",
    "  print(ans)\n",
    "\n",
    "if __name__ == \"__main__\":\n",
    "  main()\n"
   ]
  },
  {
   "cell_type": "markdown",
   "metadata": {
    "id": "jtX2EawRIlnv"
   },
   "source": [
    "# Decimals to fractions"
   ]
  },
  {
   "cell_type": "code",
   "execution_count": null,
   "metadata": {
    "colab": {
     "base_uri": "https://localhost:8080/"
    },
    "executionInfo": {
     "elapsed": 2736,
     "status": "ok",
     "timestamp": 1710020268960,
     "user": {
      "displayName": "Chris Allen",
      "userId": "14806503967616652049"
     },
     "user_tz": 480
    },
    "id": "xJhduTdoIohu",
    "outputId": "8ce13b55-4fea-4fd0-8b46-ea82e583c2ff"
   },
   "outputs": [],
   "source": [
    "def convert_dec_to_frac(digits: str):\n",
    "    # Get the number of decimal places as an integer\n",
    "    exponent = int(len(digits)) - 1\n",
    "\n",
    "    # Convert the input to a float number\n",
    "    n = float(digits)\n",
    "\n",
    "    # Use the exponent to get the numerator\n",
    "    numerator = int(n * 10**exponent)\n",
    "\n",
    "    # Use the exponent to the the denominator\n",
    "    denominator = 10**exponent\n",
    "\n",
    "    # Percent is the first two decimal places\n",
    "    percent = n * 100\n",
    "\n",
    "    # Output\n",
    "    print(\"The decimal is \", n)\n",
    "    print(\"The fraction is \", numerator, \"/\", denominator)\n",
    "    print(\"The percent is \", round(percent, 3), \"%\")\n",
    "\n",
    "\n",
    "def main():\n",
    "    # Get string input, which will include a decimal point (less than 1)\n",
    "    digits = input(\"Enter a decimal number to convert: \")\n",
    "    convert_dec_to_frac(digits)\n",
    "\n",
    "if __name__ == \"__main__\":\n",
    "    main()"
   ]
  },
  {
   "cell_type": "markdown",
   "metadata": {
    "id": "XirL4wW0Tk6l"
   },
   "source": [
    "# Graphing"
   ]
  },
  {
   "cell_type": "markdown",
   "metadata": {
    "id": "WydQtuYhWDUs"
   },
   "source": [
    "Generalized graphing script"
   ]
  },
  {
   "cell_type": "code",
   "execution_count": null,
   "metadata": {
    "colab": {
     "base_uri": "https://localhost:8080/",
     "height": 472
    },
    "executionInfo": {
     "elapsed": 709,
     "status": "ok",
     "timestamp": 1710040331041,
     "user": {
      "displayName": "Chris Allen",
      "userId": "14806503967616652049"
     },
     "user_tz": 480
    },
    "id": "qOpWElNqWHg5",
    "outputId": "1b110812-6fa0-4ae2-bdcd-fe3e7d9dcd58"
   },
   "outputs": [],
   "source": [
    "import matplotlib.pyplot as plt\n",
    "import numpy as np\n",
    "\n",
    "def graph_xy():\n",
    "    xmin = -10\n",
    "    xmax = 10\n",
    "    ymin = -10\n",
    "    ymax = 10\n",
    "    points = 2*(xmax - xmin)\n",
    "    x = np.linspace(xmin, xmax, points)\n",
    "\n",
    "    fig, ax = plt.subplots()\n",
    "    plt.axis([xmin, xmax, ymin, ymax]) # window size\n",
    "    plt.plot([xmin,xmax],[0,0], 'b') # blue x axis\n",
    "    plt.plot([0,0],[ymin,ymax], 'b') # blue y axis\n",
    "\n",
    "    ax.set_xlabel(\"x values\")\n",
    "    ax.set_ylabel(\"y values\")\n",
    "    ax.set_title(\"Some graph\")\n",
    "    ax.grid(True)\n",
    "\n",
    "    ax.set_xticks(np.arange(xmin, xmax, 2))\n",
    "    ax.set_yticks(np.arange(ymin, ymax, 2))\n",
    "\n",
    "    # put equation here where y = something with x\n",
    "    #y = 2*x + 1\n",
    "    #y = x**2\n",
    "    y = 2*x**2 + 5*x + 4\n",
    "\n",
    "    plt.plot(x, y)\n",
    "    #plt.legend()\n",
    "\n",
    "    plt.show()\n",
    "\n",
    "def main():\n",
    "    graph_xy()\n",
    "\n",
    "if __name__ == \"__main__\":\n",
    "    main()\n"
   ]
  },
  {
   "cell_type": "markdown",
   "metadata": {},
   "source": [
    "# Slope-intercept equation from two points"
   ]
  },
  {
   "cell_type": "code",
   "execution_count": 3,
   "metadata": {},
   "outputs": [
    {
     "name": "stdout",
     "output_type": "stream",
     "text": [
      "y = 0.325 x + 0.0\n"
     ]
    },
    {
     "data": {
      "image/png": "[encoded data removed]",
      "text/plain": [
       "<Figure size 640x480 with 1 Axes>"
      ]
     },
     "metadata": {},
     "output_type": "display_data"
    }
   ],
   "source": [
    "import matplotlib.pyplot as plt\n",
    "import numpy as np\n",
    "\n",
    "x1 = 0\n",
    "y1 = 0\n",
    "x2 = 40\n",
    "y2 = 13\n",
    "\n",
    "# Develop the equation y = mx + b\n",
    "m = (y2 - y1) / (x2 - x1)\n",
    "b = y1 - m*x1\n",
    "print(\"y =\", m, \"x +\", b)\n",
    "\n",
    "# For the graph\n",
    "xmin = -10\n",
    "xmax = 100\n",
    "ymin = -10\n",
    "ymax = 50\n",
    "\n",
    "# For the line on the graph\n",
    "y3 = m*xmin + b\n",
    "y4 = m*xmax + b\n",
    "\n",
    "fig, ax = plt.subplots()\n",
    "plt.axis([xmin, xmax, ymin, ymax]) # window size\n",
    "plt.plot([xmin, xmax],[0, 0], 'b') # blue x axis\n",
    "plt.plot([0, 0], [ymin, ymax], 'b') # blue y axis\n",
    "\n",
    "# Add details to the graph\n",
    "ax.set_xlabel(\"x values\")\n",
    "ax.set_ylabel(\"y values\")\n",
    "ax.grid(True)\n",
    "\n",
    "# Plot the linear function as a red line\n",
    "plt.plot([xmin, xmax], [y3, y4], 'r')\n",
    "\n",
    "plt.show()"
   ]
  },
  {
   "cell_type": "markdown",
   "metadata": {},
   "source": [
    "# Graph lines and zoom in or out"
   ]
  },
  {
   "cell_type": "code",
   "execution_count": 6,
   "metadata": {},
   "outputs": [
    {
     "data": {
      "image/png": "[encoded data removed]",
      "text/plain": [
       "<Figure size 640x480 with 1 Axes>"
      ]
     },
     "metadata": {},
     "output_type": "display_data"
    }
   ],
   "source": [
    "%matplotlib inline\n",
    "from ipywidgets import interactive\n",
    "import matplotlib.pyplot as plt\n",
    "import numpy as np\n",
    "\n",
    "# Define the graphing function\n",
    "def f(m, b, zoom):\n",
    "    xmin = -zoom\n",
    "    xmax = zoom\n",
    "    ymin = -zoom\n",
    "    ymax = zoom\n",
    "    points = 10 * xmax - xmin\n",
    "    x = np.linspace(xmin, xmax, points)\n",
    "\n",
    "    fix, ax = plt.subplots()\n",
    "    plt.axis([xmin,xmax,ymin,ymax]) # window size\n",
    "    plt.plot([xmin,xmax],[0,0]) # black x axis\n",
    "    plt.plot([0,0], [ymin, ymax]) # black y axis\n",
    "    \n",
    "    # Line 1\n",
    "    y1 = 3 * x**2 - 4\n",
    "    plt.plot(x, y1)\n",
    "\n",
    "    # Line 2\n",
    "    y2 = x\n",
    "    plt.plot(x, y2)\n",
    "\n",
    "    ax.set_xlabel(\"x values\")\n",
    "    ax.set_ylabel(\"y values\")\n",
    "    ax.set_title(\"Some graph\")\n",
    "    ticks = int(round((xmax - xmin)/20))\n",
    "    ax.set_xticks(np.arange(xmin, xmax, ticks))\n",
    "    ax.set_yticks(np.arange(ymin, ymax, ticks))\n",
    "    ax.grid(True)\n",
    "    plt.show()\n",
    "    \n",
    "# set up the sliders\n",
    "interactive_plot = interactive(f, m=(-9, 9), b=(-9, 9), zoom=(1, 100))\n",
    "interactive_plot\n"
   ]
  },
  {
   "cell_type": "markdown",
   "metadata": {},
   "source": [
    "# Solve and graph a system of equations"
   ]
  },
  {
   "cell_type": "code",
   "execution_count": 11,
   "metadata": {},
   "outputs": [
    {
     "name": "stdout",
     "output_type": "stream",
     "text": [
      "Solution = ( sqrt(6) , 4 )\n",
      "Solution = ( -sqrt(6) , 4 )\n",
      "y = 10 - x**2\n",
      "y = x**2 - 2\n"
     ]
    },
    {
     "data": {
      "image/png": "[encoded data removed]",
      "text/plain": [
       "<Figure size 640x480 with 1 Axes>"
      ]
     },
     "metadata": {},
     "output_type": "display_data"
    },
    {
     "data": {
      "text/plain": [
       "<sympy.plotting.plot.Plot at 0x7ff3f06acfd0>"
      ]
     },
     "execution_count": 11,
     "metadata": {},
     "output_type": "execute_result"
    }
   ],
   "source": [
    "from sympy import *\n",
    "from sympy.plotting import plot\n",
    "from sympy import sqrt\n",
    "\n",
    "var('x y')\n",
    "\n",
    "# First equation set equal to zero, ready to solve\n",
    "first = -x**2 - y + 10\n",
    "#first = sqrt(x) = y\n",
    "\n",
    "# Second equation set equal to zero, ready to solve\n",
    "second = 2*x**2 - 2*y - 4\n",
    "#second = -x + 5 - y\n",
    "\n",
    "E# solve - can be linear or nonlinear equations\n",
    "solution = nonlinsolve([first, second], (x, y))\n",
    "for a in range(len(solution.args)):\n",
    "    x_solution = solution.args[a][0]\n",
    "    y_solution = solution.args[a][1]\n",
    "    print(\"Solution = (\", x_solution, \",\", y_solution, \")\")\n",
    "\n",
    "# sympy syntax for equation equl to zero, ready to factor\n",
    "y_first = Eq(first, 0)\n",
    "\n",
    "# sympy solve for y\n",
    "y1 = solve(y_first, y)\n",
    "\n",
    "# Same two steps for second equation\n",
    "y_second = Eq(second, 0)\n",
    "y2 = solve(y_second, y)\n",
    "\n",
    "# show factored results\n",
    "print(\"y =\", y1[0])\n",
    "print(\"y =\", y2[0])\n",
    "\n",
    "# Plot solution\n",
    "x = symbols('x')\n",
    "xmin = -10\n",
    "xmax = 10\n",
    "plot(y1[0], y2[0], (x, xmin, xmax))"
   ]
  },
  {
   "cell_type": "markdown",
   "metadata": {},
   "source": [
    "# Save graph and download it to your computer"
   ]
  },
  {
   "cell_type": "code",
   "execution_count": null,
   "metadata": {},
   "outputs": [],
   "source": [
    "# use this when graphing\n",
    "\n",
    "from google.colab import files\n",
    "\n",
    "# to save and output graph\n",
    "plt.savefig(\"abc.png\")\n",
    "plt.show()\n",
    "files.download(\"abc.png\")"
   ]
  }
 ],
 "metadata": {
  "colab": {
   "authorship_tag": "ABX9TyMtioTmoKmfnGmlORbEdmjI",
   "provenance": [],
   "toc_visible": true
  },
  "kernelspec": {
   "display_name": "Python 3 (ipykernel)",
   "language": "python",
   "name": "python3"
  },
  "language_info": {
   "codemirror_mode": {
    "name": "ipython",
    "version": 3
   },
   "file_extension": ".py",
   "mimetype": "text/x-python",
   "name": "python",
   "nbconvert_exporter": "python",
   "pygments_lexer": "ipython3",
   "version": "3.10.12"
  }
 },
 "nbformat": 4,
 "nbformat_minor": 4
}
