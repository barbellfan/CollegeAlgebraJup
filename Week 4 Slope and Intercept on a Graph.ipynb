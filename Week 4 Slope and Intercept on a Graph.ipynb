{
 "cells": [
  {
   "cell_type": "markdown",
   "metadata": {},
   "source": [
    "# Slope and Intercept on a Graph"
   ]
  },
  {
   "cell_type": "markdown",
   "metadata": {},
   "source": [
    "Slope formula:\n",
    "\n",
    "$ m = \\frac{y_2 - y_1}{x_2 - x_1}   $\n",
    "\n",
    "Where the $ x $ and $y$ values are two different points on a line."
   ]
  },
  {
   "cell_type": "code",
   "execution_count": null,
   "metadata": {},
   "outputs": [],
   "source": [
    "x1 = 1\n",
    "y1 = 7\n",
    "x2 = 2\n",
    "y2 = 10\n",
    "\n",
    "slope = (y2 - y1) / (x2 - x1)\n",
    "\n",
    "print(\"slope = \", slope)"
   ]
  },
  {
   "cell_type": "markdown",
   "metadata": {},
   "source": [
    "Example output:\n",
    "\n",
    "```slope =  3.0```"
   ]
  },
  {
   "cell_type": "markdown",
   "metadata": {},
   "source": [
    "# Slope-intercept equation"
   ]
  },
  {
   "cell_type": "markdown",
   "metadata": {},
   "source": [
    "The slope intercept equation is:\n",
    "\n",
    "$y = mx + b$\n",
    "\n",
    "Say you have a point $(1, 1)$ and a slope of 3. Plug this into the formula:\n",
    "\n",
    "$1 = 3(1) + b \\\\$\n",
    "$1 = 3 + b \\\\$\n",
    "$-2 = b \\\\$\n",
    "\n",
    "Therefore, the equation for this line is:\n",
    "\n",
    "$y = 3x - 2$\n",
    "\n",
    "Use 3 as the slope, and 2 for b. And there it is."
   ]
  },
  {
   "cell_type": "code",
   "execution_count": null,
   "metadata": {},
   "outputs": [],
   "source": [
    "x1 = 1\n",
    "y1 = 7\n",
    "x2 = 2\n",
    "y2 = 10\n",
    "\n",
    "# the slope is \"m\"\n",
    "m = (y2 - y1) / (x2 - x1)\n",
    "\n",
    "# the y intercept is \"b\"\n",
    "b = y1 - m*x1\n",
    "\n",
    "# the full equation\n",
    "print(\"y = \", m, \"x + \", b)"
   ]
  },
  {
   "cell_type": "markdown",
   "metadata": {},
   "source": [
    "Sample output is:\n",
    "\n",
    "```y =  3.0 x + 4.0```"
   ]
  },
  {
   "cell_type": "markdown",
   "metadata": {},
   "source": [
    "Also display the graph"
   ]
  },
  {
   "cell_type": "code",
   "execution_count": null,
   "metadata": {},
   "outputs": [],
   "source": [
    "import matplotlib.pyplot as plt\n",
    "\n",
    "x1 = 1\n",
    "y1 = 7\n",
    "x2 = 2\n",
    "y2 = 10\n",
    "\n",
    "# the slope is \"m\"\n",
    "m = (y2 - y1) / (x2 - x1)\n",
    "\n",
    "# the y intercept is \"b\"\n",
    "b = y1 - m*x1\n",
    "\n",
    "# the full equation\n",
    "print(\"y = \", m, \"x + \", b)\n",
    "\n",
    "# for the graph\n",
    "xmin = -10\n",
    "xmax = 10\n",
    "ymin = -10\n",
    "ymax = 10\n",
    "\n",
    "# for the line on the graph\n",
    "y3 = m*xmin + b\n",
    "y4 = m*xmax + b\n",
    "\n",
    "# basic setup for the graph\n",
    "fig, ax = plt.subplots()\n",
    "plt.axis([xmin,xmax,ymin,ymax]) # window size\n",
    "plt.plot([xmin,xmax],[0,0], 'b') # blue x axis\n",
    "plt.plot([0,0],[ymin,ymax], 'b') # blue y axis\n",
    "\n",
    "# plot the linear function as a red line\n",
    "plt.plot([xmin,xmax],[y3,y4], 'r')\n",
    "\n",
    "plt.show()"
   ]
  },
  {
   "cell_type": "markdown",
   "metadata": {},
   "source": [
    "Sample output:\n",
    "\n",
    "$y =  3.0 x +  4.0$\n",
    "\n",
    "Plus a pretty graph."
   ]
  }
 ],
 "metadata": {
  "kernelspec": {
   "display_name": "Python 3",
   "language": "python",
   "name": "python3"
  },
  "language_info": {
   "codemirror_mode": {
    "name": "ipython",
    "version": 3
   },
   "file_extension": ".py",
   "mimetype": "text/x-python",
   "name": "python",
   "nbconvert_exporter": "python",
   "pygments_lexer": "ipython3",
   "version": "3.10.12"
  }
 },
 "nbformat": 4,
 "nbformat_minor": 2
}
